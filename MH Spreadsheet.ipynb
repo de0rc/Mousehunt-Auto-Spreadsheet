{
 "cells": [
  {
   "cell_type": "code",
   "execution_count": 1,
   "metadata": {},
   "outputs": [],
   "source": [
    "# Google Sheets Credentials\n",
    "import pandas as pd\n",
    "import os.path\n",
    "\n",
    "from google.auth.transport.requests import Request\n",
    "from google.oauth2.credentials import Credentials\n",
    "from google_auth_oauthlib.flow import InstalledAppFlow\n",
    "from googleapiclient.discovery import build\n",
    "\n",
    "SCOPES = ['https://www.googleapis.com/auth/spreadsheets']\n",
    "\n",
    "MH_SPREADSHEET_ID = '1xWFQgV3T2NOvfN_I8kvFxWHbH9i240rp2UFi2SEi6Zc'\n",
    "MH_RANGE_NAME = 'Data!A1:M'\n",
    "\n",
    "MY_SPREADSHEET_ID = '1KeW44qsH7WCsuXuQHrZs7lG6yiMirT0PAKW_axtpv2c'\n",
    "MY_RANGE_NAME1 = 'MP!A2:B'\n",
    "\n",
    "creds = None\n",
    "# The file token.json stores the user's access and refresh tokens, and is\n",
    "# created automatically when the authorization flow completes for the first\n",
    "# time.\n",
    "if os.path.exists('token.json'):\n",
    "    creds = Credentials.from_authorized_user_file('token.json', SCOPES)\n",
    "# If there are no (valid) credentials available, let the user log in.\n",
    "if not creds or not creds.valid:\n",
    "    if creds and creds.expired and creds.refresh_token:\n",
    "        creds.refresh(Request())\n",
    "    else:\n",
    "        flow = InstalledAppFlow.from_client_secrets_file(\n",
    "            'credentials.json', SCOPES)\n",
    "        creds = flow.run_local_server(port=0)\n",
    "    # Save the credentials for the next run\n",
    "    with open('token.json', 'w') as token:\n",
    "        token.write(creds.to_json())\n",
    "\n",
    "service = build('sheets', 'v4', credentials=creds)"
   ]
  },
  {
   "cell_type": "code",
   "execution_count": 2,
   "metadata": {},
   "outputs": [],
   "source": [
    "# Load MH DB spreadsheet into py using .get\n",
    "# Call the Sheets API to .get value\n",
    "sheet = service.spreadsheets()\n",
    "result = sheet.values().get(spreadsheetId=MH_SPREADSHEET_ID,range=MH_RANGE_NAME).execute()\n",
    "values = result.get('values', [])\n",
    "\n",
    "# Get values from Info sheet\n",
    "iresult = sheet.values().get(spreadsheetId=MY_SPREADSHEET_ID,range='Info!A1:B').execute()\n",
    "ivalues = iresult.get('values', [])\n",
    "\n",
    "# Create pd dataframe, remove non-tradables, and remove 'undefined' items\n",
    "df = pd.DataFrame(values[1:],columns=values[0])\n",
    "df.drop(df[df['Tradable'] == 'No'].index, inplace = True)\n",
    "df.drop(df[df['Name'] == 'undefined'].index, inplace = True)\n",
    "df = df[['ID','Name']]"
   ]
  },
  {
   "cell_type": "code",
   "execution_count": 3,
   "metadata": {},
   "outputs": [
    {
     "name": "stdout",
     "output_type": "stream",
     "text": [
      "Nothing New\n"
     ]
    }
   ],
   "source": [
    "# Check if highest ID is latest. Add ID & Name of all items if false and also updates Last known ID in Info sheet.\n",
    "if df.ID.tail(1).values[-1] > ivalues[1][1]:\n",
    "    value_input_option = 'USER_ENTERED' #RAW or USER_ENTERED\n",
    "    value_range_body = {\n",
    "        'values': df.values.tolist()\n",
    "    }\n",
    "    result = sheet.values().update(spreadsheetId=MY_SPREADSHEET_ID,range=MY_RANGE_NAME1, valueInputOption=value_input_option, body=value_range_body).execute()\n",
    "    result = sheet.values().update(spreadsheetId=MY_SPREADSHEET_ID,range='Info!B2', valueInputOption=value_input_option, body={'values': [[df.ID.tail(1).values[-1]]]}).execute()\n",
    "else:\n",
    "    print('Nothing New')"
   ]
  },
  {
   "cell_type": "code",
   "execution_count": 4,
   "metadata": {},
   "outputs": [],
   "source": [
    "# Import MP price from Markethunt API\n",
    "import requests\n",
    "import json\n",
    "id = df['ID'].values.tolist()\n",
    "ourl = 'https://markethunt.vsong.ca/api/stock_data/getjson.php?item_id='\n",
    "url = [ourl + s for s in id]\n",
    "rtest = json.loads(requests.get('https://markethunt.vsong.ca/api/stock_data/getjson.php?item_id=114').text)\n",
    "vLD = rtest.get('latest_sb_data', [])['date'] # Gets Latest Date from item 114\n",
    "\n",
    "data = []\n",
    "dataD = []\n",
    "for i in range(len(id)):\n",
    "    response = json.loads(requests.get(url[i]).text)\n",
    "    values2 = response.get('data', [])\n",
    "    if values2 != []: # check if data is not null\n",
    "        if values2[-1]['date'] < vLD: #check if latest data date is < latest date\n",
    "            vD = values2[-1]['date']\n",
    "            vP = values2[-1]['price']\n",
    "            vGC = 0\n",
    "        else:\n",
    "            try:\n",
    "                vD = values2[-1]['date']\n",
    "                vP = values2[-1]['price']\n",
    "                vGC = values2[-1]['price'] - values2[-2]['price']\n",
    "            except IndexError: #if list out of range (only 1 date data), will return vGC as 0\n",
    "                vD = values2[-1]['date']\n",
    "                vP = values2[-1]['price']\n",
    "                vGC = 0\n",
    "    else: # if data is null\n",
    "        vD, vP, vGC = 0, 0, 0\n",
    "    dataD.append([vD])\n",
    "    data.append([vP, vGC])"
   ]
  },
  {
   "cell_type": "code",
   "execution_count": 5,
   "metadata": {},
   "outputs": [],
   "source": [
    "# Add MP Price & Date Updated into Spreadsheet by using .update, and update Info sheet's last updated date\n",
    "MY_RANGE_NAME2 = 'MP!D2:E'\n",
    "value_input_option = 'USER_ENTERED'\n",
    "batch_update_values_request_body = {\n",
    "    'value_input_option': 'USER_ENTERED',\n",
    "    'data': [{\n",
    "        'range': \"MP!D2:D\",\n",
    "        'values': dataD\n",
    "    },\n",
    "    {\n",
    "        'range': \"MP!F2:G\",\n",
    "        'values': data\n",
    "    }]\n",
    "}\n",
    "result = sheet.values().batchUpdate(spreadsheetId=MY_SPREADSHEET_ID, body=batch_update_values_request_body).execute()\n",
    "result = sheet.values().update(spreadsheetId=MY_SPREADSHEET_ID,range='Info!B1', valueInputOption=value_input_option, body={'values': [dataD[3]]}).execute()"
   ]
  }
 ],
 "metadata": {
  "interpreter": {
   "hash": "aee8b7b246df8f9039afb4144a1f6fd8d2ca17a180786b69acc140d282b71a49"
  },
  "kernelspec": {
   "display_name": "Python 3.9.1 64-bit",
   "language": "python",
   "name": "python3"
  },
  "language_info": {
   "codemirror_mode": {
    "name": "ipython",
    "version": 3
   },
   "file_extension": ".py",
   "mimetype": "text/x-python",
   "name": "python",
   "nbconvert_exporter": "python",
   "pygments_lexer": "ipython3",
   "version": "3.9.1"
  },
  "orig_nbformat": 4
 },
 "nbformat": 4,
 "nbformat_minor": 2
}
